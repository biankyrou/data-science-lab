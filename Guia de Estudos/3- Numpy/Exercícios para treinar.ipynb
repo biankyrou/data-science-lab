{
 "cells": [
  {
   "cell_type": "markdown",
   "metadata": {},
   "source": [
    "# Exercícios de NumPy\n",
    "\n",
    "### 1. Criação de Arrays\n",
    "- Crie um array 1D com os números de 0 a 9.\n",
    "\n",
    "### 2. Operações Matemáticas\n",
    "- Crie um array de 10 números aleatórios entre 1 e 100, e depois faça as seguintes operações:\n",
    "    - Some 5 a todos os elementos.\n",
    "    - Multiplique todos os elementos por 3.\n",
    "    - Encontre o quadrado de todos os elementos.\n",
    "\n",
    "### 3. Indexação\n",
    "- Dado o array abaixo, obtenha:\n",
    "    - O valor na primeira linha e segunda coluna.\n",
    "    - Todas as linhas da primeira coluna.\n",
    "\n",
    "### 4. Fatiamento\n",
    "- Crie um array 1D de 20 números aleatórios e extraia:\n",
    "    - Os primeiros 5 elementos.\n",
    "    - Os últimos 5 elementos.\n",
    "    - Todos os elementos com índice ímpar.\n",
    "\n",
    "### 5. Funções de Agregação\n",
    "- Dado o array a abaixo, calcule:\n",
    "    - A soma de todos os elementos.\n",
    "    - A média dos elementos.\n",
    "    - O valor mínimo e máximo.\n",
    "\n",
    "### 6. Reshape\n",
    "- Crie um array 1D de 12 elementos e transforme-o em um array 2D de 3x4."
   ]
  },
  {
   "cell_type": "code",
   "execution_count": null,
   "metadata": {
    "vscode": {
     "languageId": "plaintext"
    }
   },
   "outputs": [],
   "source": [
    "# Comece praticando aqui!"
   ]
  }
 ],
 "metadata": {
  "language_info": {
   "name": "python"
  }
 },
 "nbformat": 4,
 "nbformat_minor": 2
}
