{
 "cells": [
  {
   "cell_type": "markdown",
   "metadata": {},
   "source": [
    "## Underfitting e Overfitting"
   ]
  },
  {
   "cell_type": "markdown",
   "metadata": {},
   "source": [
    "\n",
    "### Underfitting\n",
    "- O algoritmo sabe menos que o esperado. Não aprende bem os padrões dos dados, errando muito. Incapaz de capturar a estrutura dos dados.\n",
    "\n",
    "### Overfitting\n",
    "- O algoritmo decora os dados. Ele ajusta-se excessivamente aos dados de treino, perdendo capacidade de generalização para novos dados. \n"
   ]
  }
 ],
 "metadata": {
  "language_info": {
   "name": "python"
  }
 },
 "nbformat": 4,
 "nbformat_minor": 2
}
