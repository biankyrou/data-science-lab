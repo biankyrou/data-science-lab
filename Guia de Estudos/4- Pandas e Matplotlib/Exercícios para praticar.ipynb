{
 "cells": [
  {
   "cell_type": "markdown",
   "metadata": {},
   "source": [
    "# Exercícios de Pandas com o Dataset Titanic\n",
    "\n",
    "## Exercícios Simples\n",
    "\n",
    "1. **Importar bibliotecas e carregar o dataset:**\n",
    "   - Importe a biblioteca `pandas` e carregue o dataset Titanic em um DataFrame.\n",
    "\n",
    "2. **Mostrar as 5 primeiras linhas:**\n",
    "   - Utilize um método para exibir as 5 primeiras linhas do DataFrame.\n",
    "\n",
    "3. **Mostrar as 5 últimas linhas:**\n",
    "   - Utilize um método para exibir as 5 últimas linhas do DataFrame.\n",
    "\n",
    "4. **Verificar informações sobre o DataFrame:**\n",
    "   - Use um método para obter informações sobre o DataFrame, incluindo o número de entradas e colunas.\n",
    "\n",
    "5. **Verificar estatísticas descritivas:**\n",
    "   - Gere estatísticas descritivas para colunas numéricas.\n",
    "\n",
    "## Exercícios Intermediários\n",
    "\n",
    "6. **Selecionar uma coluna:**\n",
    "   - Selecione a coluna 'Age' e armazene em uma nova variável.\n",
    "\n",
    "7. **Filtrar linhas com base em uma condição:**\n",
    "   - Filtre o DataFrame para exibir apenas os passageiros que sobreviveram.\n",
    "\n",
    "8. **Contar valores únicos em uma coluna:**\n",
    "   - Conte quantos valores únicos existem na coluna 'Embarked'.\n",
    "\n",
    "9. **Criar uma nova coluna:**\n",
    "   - Crie uma nova coluna chamada 'FamilySize' que soma o número de irmãos e cônjuges a bordo e o número de pais e filhos.\n",
    "\n",
    "10. **Renomear uma coluna:**\n",
    "    - Renomeie a coluna 'Fare' para 'TicketPrice'.\n",
    "\n",
    "## Exercícios Avançados\n",
    "\n",
    "11. **Agrupar dados:**\n",
    "    - Agrupe o DataFrame por 'Pclass' e calcule a média de 'Age' para cada classe.\n",
    "\n",
    "12. **Preencher valores ausentes:**\n",
    "    - Preencha os valores ausentes na coluna 'Age' com a média da coluna.\n",
    "\n",
    "13. **Criar um gráfico simples:**\n",
    "    - Utilize `matplotlib` ou `seaborn` para criar um gráfico de barras mostrando a contagem de passageiros que sobreviveram e não sobreviveram.\n",
    "\n",
    "14. **Exportar para CSV:**\n",
    "    - Exporte o DataFrame modificado para um novo arquivo CSV.\n",
    "\n",
    "15. **Verificar correlação:**\n",
    "    - Calcule a matriz de correlação entre as variáveis numéricas do DataFrame.\n"
   ]
  }
 ],
 "metadata": {
  "language_info": {
   "name": "python"
  }
 },
 "nbformat": 4,
 "nbformat_minor": 2
}
