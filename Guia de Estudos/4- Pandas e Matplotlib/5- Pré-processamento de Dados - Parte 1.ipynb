{
 "cells": [
  {
   "cell_type": "markdown",
   "metadata": {},
   "source": [
    "## Pré-processamento de dados\n",
    "\n",
    "O pré-processamento de dados envolve a **preparação** e **limpeza dos dados** antes de serem utilizados em **modelos** ou **análises**. <br>Essa fase é crucial para garantir que os resultados sejam precisos, confiáveis e representativos.<br> <br>\n",
    "Como vimos antes, esse processo muitas vezes se mescla com o do processo da Análise Exploratória (EDA). <br>\n",
    "No processo de analisar brevemente o dataset, entender o que cada coluna significa e compreender o domínio, acabamos por **identificar dados que precisam ser tratados**. Quando pensamos no tratamento de valores nulos, estamos fazendo nada menos do que a **limpeza dos dados**. <br> \n",
    "Já quando **identificamos e tratamos outliers**, nós também estamos na etapa de pré-processamento de dados. <br>\n",
    "Essa etapa, então, pode ser resumida nos seguintes tópicos:"
   ]
  },
  {
   "cell_type": "markdown",
   "metadata": {},
   "source": [
    "1. Limpeza de Dados:\n",
    "- Remoção de Duplicatas: Eliminar entradas duplicadas que podem distorcer a análise.\n",
    "- Tratamento de Valores Ausentes: Decidir como lidar com dados faltantes, que podem ser preenchidos (imputação) ou removidos.\n",
    "- Correção de Erros: Identificar e corrigir erros nos dados, como erros de digitação ou valores inconsistentes.\n",
    "\n",
    "2. Detecção e Tratamento de Outliers:\n",
    "- Identificar valores que estão significativamente afastados da maioria dos dados e decidir se devem ser removidos ou ajustados."
   ]
  },
  {
   "cell_type": "markdown",
   "metadata": {},
   "source": [
    "3. Criação de Novas Variáveis:\n",
    "- Gerar novas características a partir das existentes, que podem ajudar a melhorar o desempenho do modelo. Ex:<br>\n",
    "Se você tem duas colunas, como altura e peso, pode criar uma nova variável chamada IMC:\n",
    "    ```python\n",
    "    df['IMC'] = df['peso'] / (df['altura'] ** 2)\n",
    "    ```\n",
    "\n",
    "    Outro exemplo: se você tem uma coluna de data, pode extrair o ano, mês e dia dela\n",
    "    ```python\n",
    "    df['ano'] = df['data'].dt.year\n",
    "    df['mes'] = df['data'].dt.month\n",
    "    df['dia'] = df['data'].dt.day\n",
    "    ```"
   ]
  },
  {
   "cell_type": "markdown",
   "metadata": {},
   "source": [
    "4. Remoção de colunas\n",
    "- Razões para Remover Colunas\n",
    "    - Dados Irrelevantes:\n",
    "    Algumas colunas podem não ter relação com o problema que você está tentando resolver. Remover essas colunas pode ajudar a focar apenas nas informações úteis. Um exemplo de colunas com dados irrevelantes seria o ID de um determinado passageiro. São valores que entendemos como de alta cardinalidade:<br>\n",
    "\n",
    "- Colunas com Muitos Valores Ausentes:\n",
    "    - Se uma coluna tiver uma alta porcentagem de valores ausentes, pode ser mais eficiente removê-la, pois ela pode não contribuir de forma significativa para a análise ou para o modelo.\n",
    "\n",
    "<br>\n",
    "\n",
    "Obs: **O que é alta cardinalidade?** <br>\n",
    "Alta cardinalidade refere-se a uma coluna em um conjunto de dados que possui um grande número de valores únicos em relação ao número total de registros. Em outras palavras, se uma coluna contém muitos valores distintos, ela é considerada de alta cardinalidade. Exemplos de Alta Cardinalidade: \n",
    "- Nomes de Usuários: Uma coluna que armazena nomes de usuários pode ter uma alta cardinalidade, pois cada nome pode ser único.\n",
    "- Códigos Postais: Uma coluna com códigos postais de diferentes localidades pode ter muitos valores únicos.\n",
    "- Identificadores: IDs únicos para produtos ou clientes, onde cada ID é distinto.\n",
    "- Nomes de Produtos: Em um dataset de vendas, onde cada produto tem um nome único."
   ]
  },
  {
   "cell_type": "markdown",
   "metadata": {},
   "source": [
    "\n",
    "\n",
    "[➡ Próxima Seção: Pré-Processamento de Dados - Parte 2](https://github.com/biankyrou/data-science-lab/blob/main/Guia%20de%20Estudos/4-%20Pandas%20e%20Matplotlib/6-%20Pr%C3%A9-processamento%20de%20Dados%20-%20Parte%202.ipynb)"
   ]
  }
 ],
 "metadata": {
  "language_info": {
   "name": "python"
  }
 },
 "nbformat": 4,
 "nbformat_minor": 2
}
