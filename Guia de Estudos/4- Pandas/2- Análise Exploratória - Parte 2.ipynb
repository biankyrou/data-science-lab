{
 "cells": [
  {
   "cell_type": "markdown",
   "metadata": {},
   "source": [
    "### Análise Exploratória de Dados (EDA) - Parte 2"
   ]
  },
  {
   "cell_type": "markdown",
   "metadata": {},
   "source": [
    "#### -> Identificação de valores nulos e outliers\n",
    "Identificar e tratar valores nulos e outliers nos ajuda a garantir integridade dos dados e aumentar a precisão das análises e modelagens. \n",
    "\n",
    "- `Valores Nulos`: Refere-se a entradas ausentes em um conjunto de dados. Valores nulos podem ocorrer devido a falhas na coleta de dados ou por motivos específicos relacionados ao contexto.\n",
    "\n",
    "- `Outliers`: São valores que se desviam significativamente do restante dos dados. A presença de outliers pode indicar variabilidade natural nos dados, erros de medição ou eventos raros. Identificá-los é essencial, pois podem influenciar indevidamente as análises estatísticas e os modelos preditivos."
   ]
  },
  {
   "cell_type": "markdown",
   "metadata": {},
   "source": [
    "----------------------"
   ]
  },
  {
   "cell_type": "markdown",
   "metadata": {},
   "source": [
    "#### Conferindo valores nulos com `isna()`\n",
    "\n",
    "Muitos datasets têm valores nulos ou ausentes, que prejudicam a análise dos dados. Devemos garantir que esses dados sejam preenchidos. <br>\n",
    "O método `isna()` verifica a presença de valores nulos no DataFrame:\n"
   ]
  },
  {
   "cell_type": "code",
   "execution_count": null,
   "metadata": {
    "vscode": {
     "languageId": "plaintext"
    }
   },
   "outputs": [],
   "source": [
    "df.isna()  # aparece True para os valores nulos\n",
    "\n",
    "df.isna().sum()   # somatória de todos os 'Trues' para cada coluna"
   ]
  },
  {
   "cell_type": "markdown",
   "metadata": {},
   "source": [
    "#### Tratando valores nulos com `fillna()`\n",
    "\n",
    "Para tratar valores nulos, há diferentes estratégias para cada caso. <br>\n",
    "- Uma estratégia é substituir os valores faltantes pela média da coluna.<br>\n",
    "Ex: coluna idade tem valores nulos. Calculo a média separadamente e substituo os valores nulos pela média. \n"
   ]
  },
  {
   "cell_type": "code",
   "execution_count": null,
   "metadata": {
    "vscode": {
     "languageId": "plaintext"
    }
   },
   "outputs": [],
   "source": [
    "# calculando a média\n",
    "idade_media = int(df['Age'].mean())\n",
    "\n",
    "# substituindo os valores nulos\n",
    "df.loc[:, 'Age'] = df['Age'].fillna(idade_media)"
   ]
  },
  {
   "cell_type": "markdown",
   "metadata": {},
   "source": [
    "#### Excluindo valores nulos com `dropna()`\n",
    "Outra estratégia abordada para tratar valores nulos seria a exclusão dos mesmos. <br>\n",
    "Podemos excluir tanto colunas inteiras que têm valores nulos, quanto as linhas que têm valores nulos"
   ]
  },
  {
   "cell_type": "code",
   "execution_count": null,
   "metadata": {
    "vscode": {
     "languageId": "plaintext"
    }
   },
   "outputs": [],
   "source": [
    "# removendo linhas com valores nulos\n",
    "df_sem_nulos = df.dropna()\n",
    "\n",
    "# Removendo linhas onde a coluna 'Idade' tem valores nulos\n",
    "df_sem_nulos_idade = df.dropna(subset=['Idade'])\n",
    "\n",
    "# Removendo linhas onde a coluna 'Idade' tem valores nulos, diretamente no próprio DataFrame\n",
    "df.dropna(subset=['Idade'], inplace=True)\n",
    "\n",
    "\n",
    "# nos dois exemplos acima, estamos criando novos datasets sem os valores nulos\n",
    "# já no terceiro exemplo, estamos modificando o próprio dataframe com o método 'inplace=True'"
   ]
  },
  {
   "cell_type": "code",
   "execution_count": null,
   "metadata": {
    "vscode": {
     "languageId": "plaintext"
    }
   },
   "outputs": [],
   "source": [
    "# removendo colunas com valores nulos\n",
    "df_sem_colunas_nulas = df.dropna(axis=1) \n",
    "\n",
    "# remover uma colunas específica sem criar um novo dataset\n",
    "df.drop(columns=['Nome_Coluna'], inplace=True)"
   ]
  }
 ],
 "metadata": {
  "language_info": {
   "name": "python"
  }
 },
 "nbformat": 4,
 "nbformat_minor": 2
}
