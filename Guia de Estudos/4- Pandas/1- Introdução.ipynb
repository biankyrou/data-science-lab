{
 "cells": [
  {
   "cell_type": "markdown",
   "id": "6692ef06",
   "metadata": {},
   "source": [
    "\n",
    "## Introdução ao Pandas\n",
    "\n",
    "O Pandas é uma das bibliotecas mais populares para análise de dados em Python. Ele fornece ferramentas poderosas para trabalhar com estruturas de dados, como DataFrames e Series. <br>\n",
    "Essencialmente, transformamos arquivos (csv, xls, json etc) em DataFrames. E são esses DataFrames que vamos manipular.<br>\n",
    "Pense em um DataFrame como uma tabela com linhas e colunas, como uma planilha do Excel. Cada coluna dessa tabela é uma Series, ou seja, uma lista de valores."
   ]
  },
  {
   "cell_type": "code",
   "execution_count": null,
   "id": "85111045",
   "metadata": {
    "vscode": {
     "languageId": "plaintext"
    }
   },
   "outputs": [],
   "source": [
    "# Importando a Biblioteca\n",
    "import pandas as pd\n",
    "\n",
    "# Lendo um arquivo csv\n",
    "df = pd_read.csv(\"titanic.csv\")"
   ]
  },
  {
   "cell_type": "code",
   "execution_count": null,
   "id": "290781cc",
   "metadata": {
    "vscode": {
     "languageId": "plaintext"
    }
   },
   "outputs": [],
   "source": []
  }
 ],
 "metadata": {
  "language_info": {
   "name": "python"
  }
 },
 "nbformat": 4,
 "nbformat_minor": 5
}
