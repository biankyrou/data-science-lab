{
 "cells": [
  {
   "cell_type": "markdown",
   "id": "6692ef06",
   "metadata": {},
   "source": [
    "\n",
    "# Introdução ao Pandas\n",
    "\n",
    "O Pandas é uma das bibliotecas mais populares para análise de dados em Python. Ele fornece ferramentas poderosas para trabalhar com estruturas de dados, como DataFrames e Series.\n",
    "\n",
    "## Métodos e Atributos no Pandas\n",
    "\n",
    "- **Métodos**:\n",
    "    - `head()` : Retorna as primeiras 5 linhas do DataFrame.\n",
    "    - `tail()` : Retorna as últimas 5 linhas do DataFrame.\n",
    "    - `describe()` : Exibe estatísticas descritivas como contagem, média, mínimo, máximo, etc.\n",
    "\n",
    "- **Atributos**:\n",
    "    - `shape` : Exibe o número de linhas e colunas.\n",
    "    - `columns` : Mostra os nomes das colunas.\n",
    "\n",
    "### Exemplo de Describe\n",
    "\n",
    "O método `describe()` retorna diversas informações estatísticas, como:\n",
    "\n",
    "- **count**: número de valores não nulos.\n",
    "- **mean**: média dos valores.\n",
    "- **min/max**: valor mínimo e valor máximo.\n",
    "\n",
    "\n",
    "### Conferindo valores nulos com `isna()`\n",
    "\n",
    "O método `isna()` verifica a presença de valores nulos no DataFrame.\n",
    "\n",
    "\n",
    "## Mais sobre Estatística\n",
    "\n",
    "A estatística descritiva é crucial para entender a distribuição dos dados. No Pandas, podemos calcular diversas estatísticas, como média, mediana, variância, etc.\n",
    "\n",
    "### Diferença entre `mean` e `median`\n",
    "\n",
    "- **Mean (média)**: Soma de todos os valores dividida pelo número de elementos.\n",
    "- **Median (mediana)**: Valor central de um conjunto de dados ordenados.\n",
    "\n",
    "A mediana é mais robusta, especialmente na presença de outliers, enquanto a média é mais precisa para dados sem muitos desvios.\n"
   ]
  }
 ],
 "metadata": {
  "language_info": {
   "name": "python"
  }
 },
 "nbformat": 4,
 "nbformat_minor": 5
}
