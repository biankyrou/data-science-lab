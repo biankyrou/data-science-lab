{
 "cells": [
  {
   "cell_type": "markdown",
   "id": "6692ef06",
   "metadata": {},
   "source": [
    "\n",
    "## Introdução ao Pandas\n",
    "\n",
    "O Pandas é uma das bibliotecas mais populares para análise de dados em Python. Ele fornece ferramentas poderosas para trabalhar com estruturas de dados, como DataFrames e Series. <br>\n",
    "Essencialmente, transformamos arquivos (csv, xls, json etc) em DataFrames. E são esses DataFrames que vamos manipular.<br>"
   ]
  },
  {
   "cell_type": "code",
   "execution_count": null,
   "id": "85111045",
   "metadata": {
    "vscode": {
     "languageId": "plaintext"
    }
   },
   "outputs": [],
   "source": [
    "# Importando a Biblioteca\n",
    "import pandas as pd\n",
    "\n",
    "# Lendo um arquivo csv\n",
    "df = pd_read.csv(\"titanic.csv\")"
   ]
  },
  {
   "cell_type": "markdown",
   "id": "7dd5edda",
   "metadata": {},
   "source": [
    "\n",
    "### Métodos e Atributos no Pandas\n",
    "- **Métodos**:\n",
    "    - `head()` : Retorna as primeiras 5 linhas do DataFrame.\n",
    "    - `tail()` : Retorna as últimas 5 linhas do DataFrame.\n",
    "    - `describe()` : Exibe estatísticas descritivas como contagem, média, mínimo, máximo, etc.\n",
    "\n",
    "- **Atributos**:\n",
    "    - `shape` : Exibe o número de linhas e colunas.\n",
    "    - `columns` : Mostra os nomes das colunas.\n"
   ]
  },
  {
   "cell_type": "code",
   "execution_count": null,
   "id": "391d64ab",
   "metadata": {
    "vscode": {
     "languageId": "plaintext"
    }
   },
   "outputs": [],
   "source": [
    "# em código (execute cada um separadamente, em células diferentes)\n",
    "df.head()\n",
    "df.tail()\n",
    "df.describe()\n",
    "\n",
    "df.shape\n",
    "df.columns"
   ]
  },
  {
   "cell_type": "markdown",
   "id": "c314445a",
   "metadata": {},
   "source": [
    "### Conferindo valores nulos com `isna()`\n",
    "\n",
    "O método `isna()` verifica a presença de valores nulos no DataFrame.\n",
    "\n",
    "\n",
    "## Mais sobre Estatística\n",
    "\n",
    "A estatística descritiva é crucial para entender a distribuição dos dados. No Pandas, podemos calcular diversas estatísticas, como média, mediana, variância, etc.\n",
    "\n",
    "### Diferença entre `mean` e `median`\n",
    "\n",
    "- **Mean (média)**: Soma de todos os valores dividida pelo número de elementos.\n",
    "- **Median (mediana)**: Valor central de um conjunto de dados ordenados.\n",
    "\n",
    "A mediana é mais robusta, especialmente na presença de outliers, enquanto a média é mais precisa para dados sem muitos desvios.\n"
   ]
  }
 ],
 "metadata": {
  "language_info": {
   "name": "python"
  }
 },
 "nbformat": 4,
 "nbformat_minor": 5
}
