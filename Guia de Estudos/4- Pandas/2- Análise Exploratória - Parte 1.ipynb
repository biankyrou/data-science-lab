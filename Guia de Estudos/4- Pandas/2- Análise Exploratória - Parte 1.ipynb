{
 "cells": [
  {
   "cell_type": "markdown",
   "metadata": {},
   "source": [
    "## Análise Exploratória de Dados (EDA) - Parte 1\n",
    "\n",
    "A **Análise Exploratória de Dados (EDA)** é a etapa inicial de investigação dos dados, onde buscamos entender suas principais características e comportamentos. Isso é feito por meio de gráficos, estatísticas descritivas e visualizações, o que permite identificar padrões, detectar valores nulos e outliers, e explorar relações entre variáveis.\n",
    "\n",
    "#### Objetivo:\n",
    "Obter **insights preliminares** sobre os dados antes de aplicar técnicas mais avançadas (como, por exemplo, de Machine Learning), orientando assim o próximo passo da análise.\n",
    "\n",
    "#### Ferramentas e Técnicas Usadas na EDA:\n",
    "- **Medidas Estatísticas**: Média, mediana, moda, desvio padrão, quartis.\n",
    "- **Gráficos**: Gráficos de dispersão, histogramas, boxplots.\n",
    "\n",
    "#### -> Biblioteca Pandas\n",
    "- É justamente a biblioteca Pandas que nos ajuda a fazer esta investigação inicial dos dados. "
   ]
  },
  {
   "cell_type": "markdown",
   "metadata": {},
   "source": [
    "---------------------------------------------------------------------------------------------------------------------"
   ]
  },
  {
   "cell_type": "markdown",
   "metadata": {},
   "source": [
    "### Métodos e Atributos do Pandas \n",
    "- **Métodos**:\n",
    "    - `head()` : Retorna as primeiras 5 linhas do DataFrame.\n",
    "    - `tail()` : Retorna as últimas 5 linhas do DataFrame.\n",
    "    - `describe()` : Exibe estatísticas descritivas como contagem, média, desvio padrão, valor mínimo, valor máximo, etc.\n",
    "\n",
    "- **Atributos**:\n",
    "    - `shape` : retorna as dimensões (ou a \"forma\") de um array. De forma mais simples, exibe o número de linhas e colunas do dataset.\n",
    "    - `columns` : Mostra os nomes das colunas.\n",
    "    - `dtypes` : Mostra o tipo de dados de cada coluna.\n"
   ]
  },
  {
   "cell_type": "code",
   "execution_count": null,
   "metadata": {
    "vscode": {
     "languageId": "plaintext"
    }
   },
   "outputs": [],
   "source": [
    "# em código (execute cada um separadamente, em células diferentes e observe a saída)\n",
    "df.head()\n",
    "df.tail()\n",
    "df.describe()\n",
    "\n",
    "df.shape\n",
    "df.columns\n",
    "df.dtypes"
   ]
  },
  {
   "cell_type": "markdown",
   "metadata": {},
   "source": [
    "-------"
   ]
  },
  {
   "cell_type": "markdown",
   "metadata": {},
   "source": [
    "### Seleção de Dados no Pandas\n",
    "\n",
    "No pandas, `loc` e `iloc` são usados para selecionar dados de um **DataFrame**.\n",
    "\n",
    "#### loc:\n",
    "- **Baseado em rótulos**: Utiliza rótulos de linhas e colunas para selecionar dados.\n",
    "- **Sintaxe**: `df.loc[linha, coluna]`\n",
    "- **Exemplo**: `df.loc[0, 'Nome']` seleciona o valor na primeira linha e na coluna 'Nome'.\n",
    "\n",
    "#### iloc:\n",
    "- **Baseado em índices inteiros**: Utiliza índices numéricos para selecionar dados, semelhante à indexação em listas.\n",
    "- **Sintaxe**: `df.iloc[linha, coluna]`\n",
    "- **Exemplo**: `df.iloc[0, 1]` seleciona o valor na primeira linha e na segunda coluna."
   ]
  },
  {
   "cell_type": "code",
   "execution_count": null,
   "metadata": {
    "vscode": {
     "languageId": "plaintext"
    }
   },
   "outputs": [],
   "source": [
    "# Outros exemplos:\n",
    "df.loc[:, 'Coluna1']    # seleciona todas as linhas da Coluna1\n",
    "\n",
    "df.iloc[0, [0, 1, 2]]   # seleciona a primeira linha da coluna 0, 1 e 2\n",
    "\n",
    "df.loc[df['Age'] > 50]  # filtro usando loc -> selecionando todas as linhas na qual os valores da coluna 'Age' sejam maiores que 50"
   ]
  },
  {
   "cell_type": "markdown",
   "metadata": {},
   "source": [
    "-------"
   ]
  },
  {
   "cell_type": "markdown",
   "metadata": {},
   "source": [
    "### Mais sobre o método `describe()` do Pandas e Estatística\n",
    "\n",
    "O método `describe()` do Pandas é utilizado para gerar estatísticas descritivas sobre um DataFrame ou Series. Ele resume dados numéricos e categóricos fornecendo informações como:\n",
    "\n",
    "- **count**: contagem dos valores.\n",
    "- **mean**: média aritmética.\n",
    "- **std**: desvio padrão.\n",
    "- **min**: valor mínimo.\n",
    "- **25%**: primeiro quartil (Q1).\n",
    "- **50%**: mediana (Q2).\n",
    "- **75%**: terceiro quartil (Q3).\n",
    "- **max**: valor máximo.\n",
    "\n",
    "\n",
    "Outras medidas que podemos utilizar:\n",
    "- **mode()**: cálculo da moda.\n",
    "- **mean()**: cálculo da média.\n",
    "- **median()**: cálculoda da mediana."
   ]
  },
  {
   "cell_type": "code",
   "execution_count": null,
   "metadata": {
    "vscode": {
     "languageId": "plaintext"
    }
   },
   "outputs": [],
   "source": [
    "import pandas as pd\n",
    "\n",
    "df = pd.DataFrame({\n",
    "    'A': [1, 2, 3, 4, 4, 5],\n",
    "    'B': [10, 20, 30, 40, 40, 50]\n",
    "})\n",
    "\n",
    "df.describe()"
   ]
  },
  {
   "cell_type": "code",
   "execution_count": null,
   "metadata": {
    "vscode": {
     "languageId": "plaintext"
    }
   },
   "outputs": [],
   "source": [
    "moda = df['A'].mode()\n",
    "media = df['B'].mean()\n",
    "mediana = df['A'].median()\n",
    "\n",
    "print(moda)\n",
    "print(f'{media:.2f}')\n",
    "print(mediana)"
   ]
  },
  {
   "cell_type": "markdown",
   "metadata": {},
   "source": [
    "-------"
   ]
  },
  {
   "cell_type": "markdown",
   "metadata": {},
   "source": [
    "### Conceitos estatísticos\n",
    "#### -> O que são **quartis**?\n",
    "Os quartis são divisões dos dados em **quatro partes iguais**, organizadas em ordem crescente. Eles ajudam a entender como os dados estão **distribuídos**, fornecendo **pontos de corte** que dividem o conjunto de dados em 25%, 50% e 75%. <br>\n",
    "- **Primeiro Quartil** (Q1 - 25%): Separa os 25% menores valores dos 75% restantes. Representa o valor abaixo do qual estão os primeiros 25% dos dados.<br>\n",
    "- **Segundo Quartil** (Q2 - 50%): É a mediana, o ponto central que divide os dados em duas metades iguais.<br>\n",
    "- **Terceiro Quartil** (Q3 - 75%): Separa os 75% menores valores dos 25% maiores. Indica onde estão os 75% mais baixos dos dados.\n",
    "<br><br>\n",
    "\n",
    "Exemplo:\n",
    "[2, 4, 7, 10, 12, 15, 18, 20, 22, 24, 27]\n",
    "\n",
    "- Q1 (25%):\n",
    "    - O primeiro quartil (Q1) será o valor que separa os primeiros 25% dos números.<br>\n",
    "    - Aqui, o Q1 é 7 (aproximadamente 25% dos dados estão abaixo de 7).\n",
    "\n",
    "- Q2 (Mediana, 50%):\n",
    "    - O segundo quartil (Q2), ou mediana, é o valor central.<br>\n",
    "    - Neste caso, o Q2 é 15 (metade dos dados estão abaixo de 15).\n",
    "\n",
    "- Q3 (75%):\n",
    "    - O terceiro quartil (Q3) separa os primeiros 75% dos números.<br>\n",
    "    - Aqui, o Q3 é 22 (75% dos dados estão abaixo de 22)."
   ]
  },
  {
   "cell_type": "markdown",
   "metadata": {},
   "source": [
    "------"
   ]
  },
  {
   "cell_type": "markdown",
   "metadata": {},
   "source": [
    "#### -> O que é desvio padrão?\n",
    "O desvio padrão é uma medida que indica o quanto os valores de um conjunto de dados se **afastam** da média. Ele mostra a **dispersão** ou **variação** dos dados. Se o desvio padrão for baixo, significa que os valores estão **próximos** da média. Se for alto, os valores estão mais **espalhados**.<br>\n",
    "\n",
    "Fórmula:\n",
    "- Desvio padrão (σ) = raiz quadrada da média dos quadrados das diferenças entre cada valor e a média.\n",
    "\n",
    "Em resumo, o desvio padrão ajuda a entender o quanto os dados variam em relação ao valor médio."
   ]
  }
 ],
 "metadata": {
  "language_info": {
   "name": "python"
  }
 },
 "nbformat": 4,
 "nbformat_minor": 2
}
