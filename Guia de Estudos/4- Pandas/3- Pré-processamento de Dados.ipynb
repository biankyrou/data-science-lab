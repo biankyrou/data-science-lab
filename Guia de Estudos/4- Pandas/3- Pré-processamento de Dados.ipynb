{
 "cells": [
  {
   "cell_type": "markdown",
   "metadata": {},
   "source": [
    "### Conferindo valores nulos com `isna()`\n",
    "\n",
    "Muitos datasets têm valores nulos ou ausentes, que prejudicam a análise dos dados. Devemos garantir que esses dados sejam preenchidos. <br>\n",
    "O método `isna()` verifica a presença de valores nulos no DataFrame:\n"
   ]
  },
  {
   "cell_type": "code",
   "execution_count": null,
   "metadata": {
    "vscode": {
     "languageId": "plaintext"
    }
   },
   "outputs": [],
   "source": [
    "df.isna()  # aparece True para os valores nulos\n",
    "\n",
    "df.isna().sum()   # somatória de todos os 'Trues' para cada coluna"
   ]
  },
  {
   "cell_type": "markdown",
   "metadata": {},
   "source": [
    "#### Como podemos tratar os valores nulos?\n",
    "Há estratégias diferentes em cada caso. <br>\n",
    "- Uma estratégia é substituir os valores faltantes pela média da coluna.<br>\n",
    "Ex: coluna idade tem valores nulos. Calculo a média separadamente e substituo os valores nulos pela média. \n"
   ]
  },
  {
   "cell_type": "code",
   "execution_count": null,
   "metadata": {
    "vscode": {
     "languageId": "plaintext"
    }
   },
   "outputs": [],
   "source": [
    "# calculando a média\n",
    "idade_media = int(df['Age'].mean())\n",
    "\n",
    "# substituindo os valores nulos\n",
    "df.loc[:, 'Age'] = df['Age'].fillna(idade_media)"
   ]
  }
 ],
 "metadata": {
  "language_info": {
   "name": "python"
  }
 },
 "nbformat": 4,
 "nbformat_minor": 2
}
